{
 "cells": [
  {
   "cell_type": "code",
   "execution_count": 1,
   "id": "3bce27ad-2ef9-42c1-82a9-15ced3f15f0d",
   "metadata": {},
   "outputs": [
    {
     "name": "stderr",
     "output_type": "stream",
     "text": [
      "WARNING: An illegal reflective access operation has occurred\n",
      "WARNING: Illegal reflective access by org.apache.spark.unsafe.Platform (file:/usr/local/spark-3.1.2-bin-hadoop3.2/jars/spark-unsafe_2.12-3.1.2.jar) to constructor java.nio.DirectByteBuffer(long,int)\n",
      "WARNING: Please consider reporting this to the maintainers of org.apache.spark.unsafe.Platform\n",
      "WARNING: Use --illegal-access=warn to enable warnings of further illegal reflective access operations\n",
      "WARNING: All illegal access operations will be denied in a future release\n"
     ]
    },
    {
     "name": "stdout",
     "output_type": "stream",
     "text": [
      ":: loading settings :: url = jar:file:/usr/local/spark-3.1.2-bin-hadoop3.2/jars/ivy-2.4.0.jar!/org/apache/ivy/core/settings/ivysettings.xml\n"
     ]
    },
    {
     "name": "stderr",
     "output_type": "stream",
     "text": [
      "Ivy Default Cache set to: /home/jovyan/.ivy2/cache\n",
      "The jars for the packages stored in: /home/jovyan/.ivy2/jars\n",
      "com.databricks#dbutils-api_2.12 added as a dependency\n",
      "io.delta#delta-core_2.12 added as a dependency\n",
      "org.apache.spark#spark-sql-kafka-0-10_2.12 added as a dependency\n",
      "com.amazonaws#aws-java-sdk-bundle added as a dependency\n",
      "org.apache.hadoop#hadoop-aws added as a dependency\n",
      ":: resolving dependencies :: org.apache.spark#spark-submit-parent-8b092810-6a8b-4397-8b1b-c226dc10abfc;1.0\n",
      "\tconfs: [default]\n",
      "\tfound com.databricks#dbutils-api_2.12;0.0.5 in central\n",
      "\tfound io.delta#delta-core_2.12;1.0.0 in central\n",
      "\tfound org.antlr#antlr4;4.7 in central\n",
      "\tfound org.antlr#antlr4-runtime;4.7 in central\n",
      "\tfound org.antlr#antlr-runtime;3.5.2 in central\n",
      "\tfound org.antlr#ST4;4.0.8 in central\n",
      "\tfound org.abego.treelayout#org.abego.treelayout.core;1.0.3 in central\n",
      "\tfound org.glassfish#javax.json;1.0.4 in central\n",
      "\tfound com.ibm.icu#icu4j;58.2 in central\n",
      "\tfound org.apache.spark#spark-sql-kafka-0-10_2.12;3.0.2 in central\n",
      "\tfound org.apache.spark#spark-token-provider-kafka-0-10_2.12;3.0.2 in central\n",
      "\tfound org.apache.kafka#kafka-clients;2.4.1 in central\n",
      "\tfound com.github.luben#zstd-jni;1.4.4-3 in central\n",
      "\tfound org.lz4#lz4-java;1.7.1 in central\n",
      "\tfound org.xerial.snappy#snappy-java;1.1.8.2 in central\n",
      "\tfound org.slf4j#slf4j-api;1.7.30 in central\n",
      "\tfound org.spark-project.spark#unused;1.0.0 in central\n",
      "\tfound org.apache.commons#commons-pool2;2.6.2 in central\n",
      "\tfound com.amazonaws#aws-java-sdk-bundle;1.11.819 in central\n",
      "\tfound org.apache.hadoop#hadoop-aws;3.2.0 in central\n",
      "downloading https://repo1.maven.org/maven2/com/databricks/dbutils-api_2.12/0.0.5/dbutils-api_2.12-0.0.5.jar ...\n",
      "\t[SUCCESSFUL ] com.databricks#dbutils-api_2.12;0.0.5!dbutils-api_2.12.jar (102ms)\n",
      "downloading https://repo1.maven.org/maven2/io/delta/delta-core_2.12/1.0.0/delta-core_2.12-1.0.0.jar ...\n",
      "\t[SUCCESSFUL ] io.delta#delta-core_2.12;1.0.0!delta-core_2.12.jar (464ms)\n",
      "downloading https://repo1.maven.org/maven2/org/apache/spark/spark-sql-kafka-0-10_2.12/3.0.2/spark-sql-kafka-0-10_2.12-3.0.2.jar ...\n",
      "\t[SUCCESSFUL ] org.apache.spark#spark-sql-kafka-0-10_2.12;3.0.2!spark-sql-kafka-0-10_2.12.jar (122ms)\n",
      "downloading https://repo1.maven.org/maven2/com/amazonaws/aws-java-sdk-bundle/1.11.819/aws-java-sdk-bundle-1.11.819.jar ...\n",
      "\t[SUCCESSFUL ] com.amazonaws#aws-java-sdk-bundle;1.11.819!aws-java-sdk-bundle.jar (17041ms)\n",
      "downloading https://repo1.maven.org/maven2/org/apache/hadoop/hadoop-aws/3.2.0/hadoop-aws-3.2.0.jar ...\n",
      "\t[SUCCESSFUL ] org.apache.hadoop#hadoop-aws;3.2.0!hadoop-aws.jar (110ms)\n",
      "downloading https://repo1.maven.org/maven2/org/antlr/antlr4/4.7/antlr4-4.7.jar ...\n",
      "\t[SUCCESSFUL ] org.antlr#antlr4;4.7!antlr4.jar (171ms)\n",
      "downloading https://repo1.maven.org/maven2/org/antlr/antlr4-runtime/4.7/antlr4-runtime-4.7.jar ...\n",
      "\t[SUCCESSFUL ] org.antlr#antlr4-runtime;4.7!antlr4-runtime.jar (96ms)\n",
      "downloading https://repo1.maven.org/maven2/org/antlr/antlr-runtime/3.5.2/antlr-runtime-3.5.2.jar ...\n",
      "\t[SUCCESSFUL ] org.antlr#antlr-runtime;3.5.2!antlr-runtime.jar (49ms)\n",
      "downloading https://repo1.maven.org/maven2/org/antlr/ST4/4.0.8/ST4-4.0.8.jar ...\n",
      "\t[SUCCESSFUL ] org.antlr#ST4;4.0.8!ST4.jar (87ms)\n",
      "downloading https://repo1.maven.org/maven2/org/abego/treelayout/org.abego.treelayout.core/1.0.3/org.abego.treelayout.core-1.0.3.jar ...\n",
      "\t[SUCCESSFUL ] org.abego.treelayout#org.abego.treelayout.core;1.0.3!org.abego.treelayout.core.jar(bundle) (71ms)\n",
      "downloading https://repo1.maven.org/maven2/org/glassfish/javax.json/1.0.4/javax.json-1.0.4.jar ...\n",
      "\t[SUCCESSFUL ] org.glassfish#javax.json;1.0.4!javax.json.jar(bundle) (76ms)\n",
      "downloading https://repo1.maven.org/maven2/com/ibm/icu/icu4j/58.2/icu4j-58.2.jar ...\n",
      "\t[SUCCESSFUL ] com.ibm.icu#icu4j;58.2!icu4j.jar (1086ms)\n",
      "downloading https://repo1.maven.org/maven2/org/apache/spark/spark-token-provider-kafka-0-10_2.12/3.0.2/spark-token-provider-kafka-0-10_2.12-3.0.2.jar ...\n",
      "\t[SUCCESSFUL ] org.apache.spark#spark-token-provider-kafka-0-10_2.12;3.0.2!spark-token-provider-kafka-0-10_2.12.jar (74ms)\n",
      "downloading https://repo1.maven.org/maven2/org/apache/kafka/kafka-clients/2.4.1/kafka-clients-2.4.1.jar ...\n",
      "\t[SUCCESSFUL ] org.apache.kafka#kafka-clients;2.4.1!kafka-clients.jar (347ms)\n",
      "downloading https://repo1.maven.org/maven2/org/apache/commons/commons-pool2/2.6.2/commons-pool2-2.6.2.jar ...\n",
      "\t[SUCCESSFUL ] org.apache.commons#commons-pool2;2.6.2!commons-pool2.jar (82ms)\n",
      "downloading https://repo1.maven.org/maven2/org/spark-project/spark/unused/1.0.0/unused-1.0.0.jar ...\n",
      "\t[SUCCESSFUL ] org.spark-project.spark#unused;1.0.0!unused.jar (67ms)\n",
      "downloading https://repo1.maven.org/maven2/com/github/luben/zstd-jni/1.4.4-3/zstd-jni-1.4.4-3.jar ...\n",
      "\t[SUCCESSFUL ] com.github.luben#zstd-jni;1.4.4-3!zstd-jni.jar (425ms)\n",
      "downloading https://repo1.maven.org/maven2/org/lz4/lz4-java/1.7.1/lz4-java-1.7.1.jar ...\n",
      "\t[SUCCESSFUL ] org.lz4#lz4-java;1.7.1!lz4-java.jar (129ms)\n",
      "downloading https://repo1.maven.org/maven2/org/xerial/snappy/snappy-java/1.1.8.2/snappy-java-1.1.8.2.jar ...\n",
      "\t[SUCCESSFUL ] org.xerial.snappy#snappy-java;1.1.8.2!snappy-java.jar(bundle) (238ms)\n",
      "downloading https://repo1.maven.org/maven2/org/slf4j/slf4j-api/1.7.30/slf4j-api-1.7.30.jar ...\n",
      "\t[SUCCESSFUL ] org.slf4j#slf4j-api;1.7.30!slf4j-api.jar (71ms)\n",
      ":: resolution report :: resolve 21558ms :: artifacts dl 20930ms\n",
      "\t:: modules in use:\n",
      "\tcom.amazonaws#aws-java-sdk-bundle;1.11.819 from central in [default]\n",
      "\tcom.databricks#dbutils-api_2.12;0.0.5 from central in [default]\n",
      "\tcom.github.luben#zstd-jni;1.4.4-3 from central in [default]\n",
      "\tcom.ibm.icu#icu4j;58.2 from central in [default]\n",
      "\tio.delta#delta-core_2.12;1.0.0 from central in [default]\n",
      "\torg.abego.treelayout#org.abego.treelayout.core;1.0.3 from central in [default]\n",
      "\torg.antlr#ST4;4.0.8 from central in [default]\n",
      "\torg.antlr#antlr-runtime;3.5.2 from central in [default]\n",
      "\torg.antlr#antlr4;4.7 from central in [default]\n",
      "\torg.antlr#antlr4-runtime;4.7 from central in [default]\n",
      "\torg.apache.commons#commons-pool2;2.6.2 from central in [default]\n",
      "\torg.apache.hadoop#hadoop-aws;3.2.0 from central in [default]\n",
      "\torg.apache.kafka#kafka-clients;2.4.1 from central in [default]\n",
      "\torg.apache.spark#spark-sql-kafka-0-10_2.12;3.0.2 from central in [default]\n",
      "\torg.apache.spark#spark-token-provider-kafka-0-10_2.12;3.0.2 from central in [default]\n",
      "\torg.glassfish#javax.json;1.0.4 from central in [default]\n",
      "\torg.lz4#lz4-java;1.7.1 from central in [default]\n",
      "\torg.slf4j#slf4j-api;1.7.30 from central in [default]\n",
      "\torg.spark-project.spark#unused;1.0.0 from central in [default]\n",
      "\torg.xerial.snappy#snappy-java;1.1.8.2 from central in [default]\n",
      "\t:: evicted modules:\n",
      "\tcom.amazonaws#aws-java-sdk-bundle;1.11.375 by [com.amazonaws#aws-java-sdk-bundle;1.11.819] in [default]\n",
      "\t---------------------------------------------------------------------\n",
      "\t|                  |            modules            ||   artifacts   |\n",
      "\t|       conf       | number| search|dwnlded|evicted|| number|dwnlded|\n",
      "\t---------------------------------------------------------------------\n",
      "\t|      default     |   21  |   20  |   20  |   1   ||   20  |   20  |\n",
      "\t---------------------------------------------------------------------\n",
      ":: retrieving :: org.apache.spark#spark-submit-parent-8b092810-6a8b-4397-8b1b-c226dc10abfc\n",
      "\tconfs: [default]\n",
      "\t20 artifacts copied, 0 already retrieved (198147kB/343ms)\n",
      "21/10/31 09:43:19 WARN NativeCodeLoader: Unable to load native-hadoop library for your platform... using builtin-java classes where applicable\n",
      "Using Spark's default log4j profile: org/apache/spark/log4j-defaults.properties\n",
      "Setting default log level to \"WARN\".\n",
      "To adjust logging level use sc.setLogLevel(newLevel). For SparkR, use setLogLevel(newLevel).\n"
     ]
    }
   ],
   "source": [
    "import pyspark\n",
    "from pyspark.sql import Column, DataFrame, SparkSession, functions\n",
    "from pyspark.sql.functions import *\n",
    "from py4j.java_collections import MapConverter\n",
    "import shutil\n",
    "import random\n",
    "import threading\n",
    "conf = pyspark.SparkConf()\n",
    "conf.setMaster(\"spark://spark:7077\") \n",
    "\n",
    "conf.set(\"spark.hadoop.fs.s3a.endpoint\", 'http://s3:9000') \\\n",
    "    .set(\"spark.hadoop.fs.s3a.access.key\", 'minio') \\\n",
    "    .set(\"spark.hadoop.fs.s3a.secret.key\", 'minio123') \\\n",
    "    .set(\"spark.hadoop.fs.s3a.fast.upload\", True) \\\n",
    "    .set(\"spark.hadoop.fs.s3a.path.style.access\", True) \\\n",
    "    .set(\"spark.hadoop.fs.s3a.impl\", \"org.apache.hadoop.fs.s3a.S3AFileSystem\") \\\n",
    "    .set(\"spark.sql.extensions\", \"io.delta.sql.DeltaSparkSessionExtension\") \\\n",
    "    .set(\"spark.sql.catalog.spark_catalog\", \"org.apache.spark.sql.delta.catalog.DeltaCatalog\")\n",
    "sc = pyspark.SparkContext(conf=conf)"
   ]
  },
  {
   "cell_type": "code",
   "execution_count": 2,
   "id": "d2bf6254-be9f-4876-a02c-70f6e727db89",
   "metadata": {},
   "outputs": [],
   "source": [
    "from pyspark.sql import SparkSession\n",
    "spark = SparkSession(sc).builder.appName(\"streaming\").getOrCreate()\n",
    "from delta.tables import *"
   ]
  },
  {
   "cell_type": "code",
   "execution_count": 3,
   "id": "6ab9fbfd-f0ce-44dd-b7c9-e9e8e684dae4",
   "metadata": {},
   "outputs": [],
   "source": [
    "from pyspark.sql.utils import AnalysisException\n",
    "def get_streaming_df(OBJECTURL, format='json'):\n",
    "    if (format in ('json','csv')):\n",
    "        schema=(spark.read.format('json').load(OBJECTURL).schema)\n",
    "        return(spark.readStream.format(format).schema(schema).load(OBJECTURL))\n",
    "    else:\n",
    "        return(spark.readStream.format(format).load(OBJECTURL))\n",
    "    return streamingRawDF\n",
    "\n",
    "def getDeltaTableFromPath(path):\n",
    "    deltaTable=None\n",
    "    try:\n",
    "        deltaTable = DeltaTable.forPath(spark, path)\n",
    "    except AnalysisException as error:\n",
    "        if(\"is not a Delta table\" in str(error)):\n",
    "            print('1st time we call, not yet created')\n",
    "        else:\n",
    "            raise(error)\n",
    "    return (deltaTable)\n",
    "\n",
    "def mergetoDF(microDF, batchId):\n",
    "    print(f\"inside foreachBatch for batchId{batchId}. rows passed={microDF.count()}\")\n",
    "#    microDF.dropDuplicates(\"id\")\n",
    "    deltaDf.alias(\"t\").merge(microDF.alias(\"s\"), \"s.id = t.id\")\\\n",
    "        .whenMatchedUpdateAll()\\\n",
    "        .whenNotMatchedInsertAll()\\\n",
    "        .execute()\n",
    "    \n"
   ]
  },
  {
   "cell_type": "code",
   "execution_count": 10,
   "id": "026e95db-612d-40d0-9ce8-bcb8f263e33c",
   "metadata": {},
   "outputs": [
    {
     "name": "stderr",
     "output_type": "stream",
     "text": [
      "                                                                                \r"
     ]
    }
   ],
   "source": [
    "CUSTOMER_JSON = 's3a://minio-sink-bucket/topics/customers'\n",
    "streamingRawDF=get_streaming_df(CUSTOMER_JSON)\n",
    "stream=streamingRawDF.select(col(\"after.id\"), col(\"after.first_name\"), col(\"after.last_name\"), col(\"after.email\")).withColumn('inserted', current_timestamp()).writeStream \\\n",
    "  .format(\"delta\") \\\n",
    "  .outputMode(\"append\") \\\n",
    "  .partitionBy(['last_name', 'first_name']) \\\n",
    "  .option(\"overwriteSchema\", \"true\") \\\n",
    "  .trigger(once=True) \\\n",
    "  .options(ignoreDeletes=True) \\\n",
    "  .option(\"checkpointLocation\", 's3a://minio-sink-bucket/delta/bronze/customers/checkpoints/').start('s3a://minio-sink-bucket/delta/bronze/customers/data/')\n",
    "stream.awaitTermination()"
   ]
  },
  {
   "cell_type": "code",
   "execution_count": 11,
   "id": "3527f1f1-c75b-4ee6-beb8-8b05dee5bfa8",
   "metadata": {},
   "outputs": [
    {
     "name": "stdout",
     "output_type": "stream",
     "text": [
      "#############  Original Delta Table ###############\n",
      "+----+----------+---------+--------------------+--------------------+\n",
      "|  id|first_name|last_name|               email|            inserted|\n",
      "+----+----------+---------+--------------------+--------------------+\n",
      "|1001|      Jane|  changed|sally.thomas@acme...|2021-10-31 09:45:...|\n",
      "|1001|     Sally|   Thomas|sally.thomas@acme...|2021-10-31 09:43:...|\n",
      "|1005|      John|      Doe|john.doe@example.com|2021-10-31 09:45:...|\n",
      "|1002|    George|   Bailey|  gbailey@foobar.com|2021-10-31 09:43:...|\n",
      "|1004|      Anne|Kretchmar|  annek@noanswer.org|2021-10-31 09:43:...|\n",
      "|1003|    Edward|   Walker|       ed@walker.com|2021-10-31 09:43:...|\n",
      "+----+----------+---------+--------------------+--------------------+\n",
      "\n"
     ]
    }
   ],
   "source": [
    "deltaTable=getDeltaTableFromPath('s3a://minio-sink-bucket/delta/bronze/customers/data')\n",
    "print(\"#############  Original Delta Table ###############\")\n",
    "deltaTable.toDF().show()"
   ]
  },
  {
   "cell_type": "code",
   "execution_count": 12,
   "id": "6f04876c-5d8a-4122-bef2-18aa69da101b",
   "metadata": {},
   "outputs": [],
   "source": [
    "customer_stream_df=get_streaming_df('s3a://minio-sink-bucket/delta/bronze/customers/data', 'delta')"
   ]
  },
  {
   "cell_type": "code",
   "execution_count": 13,
   "id": "5794d4cf-4d7b-4c69-9761-fd85a5785ef1",
   "metadata": {},
   "outputs": [
    {
     "name": "stdout",
     "output_type": "stream",
     "text": [
      "not first time, merging data\n"
     ]
    },
    {
     "name": "stderr",
     "output_type": "stream",
     "text": [
      "21/10/31 09:46:11 WARN MicroBatchExecution: The read limit MaxFiles: 1000 for DeltaSource[s3a://minio-sink-bucket/delta/bronze/customers/data] is ignored when Trigger.Once() is used.\n",
      "                                                                                \r"
     ]
    },
    {
     "name": "stdout",
     "output_type": "stream",
     "text": [
      "inside foreachBatch for batchId1. rows passed=2\n"
     ]
    },
    {
     "name": "stderr",
     "output_type": "stream",
     "text": [
      "                                                                                \r"
     ]
    }
   ],
   "source": [
    "checkpointLocation='s3a://minio-sink-bucket/delta/bronze/customers_stream/checkpoints/'\n",
    "data_path='s3a://minio-sink-bucket/delta/bronze/customers_stream/data'\n",
    "customer_stream_delta_path='s3a://minio-sink-bucket/delta/bronze/customers_stream/data'\n",
    "deltaDf = getDeltaTableFromPath(customer_stream_delta_path)\n",
    "data_stream_writer=customer_stream_df.writeStream \\\n",
    "      .format(\"delta\") \\\n",
    "      .outputMode(\"append\") \\\n",
    "      .trigger(once=True) \\\n",
    "      .option(\"checkpointLocation\", checkpointLocation) \n",
    "if not deltaDf:\n",
    "      print('first time, creating table')\n",
    "      data_stream_writer.start(data_path)\n",
    "else:\n",
    "    print('not first time, merging data')\n",
    "    data_stream_writer.foreachBatch(mergetoDF).start()"
   ]
  },
  {
   "cell_type": "code",
   "execution_count": 14,
   "id": "221840cb-57ae-435f-894c-48ec31d5b6af",
   "metadata": {},
   "outputs": [],
   "source": [
    "deltaDf = getDeltaTableFromPath(customer_stream_delta_path)"
   ]
  },
  {
   "cell_type": "code",
   "execution_count": 15,
   "id": "6c8bea98-87fe-4da5-bb1e-a9348220f70b",
   "metadata": {},
   "outputs": [
    {
     "name": "stdout",
     "output_type": "stream",
     "text": [
      "+----+----------+---------+--------------------+--------------------+\n",
      "|  id|first_name|last_name|               email|            inserted|\n",
      "+----+----------+---------+--------------------+--------------------+\n",
      "|1001|      Jane|  changed|sally.thomas@acme...|2021-10-31 09:45:...|\n",
      "|1004|      Anne|Kretchmar|  annek@noanswer.org|2021-10-31 09:43:...|\n",
      "|1005|      John|      Doe|john.doe@example.com|2021-10-31 09:45:...|\n",
      "|1002|    George|   Bailey|  gbailey@foobar.com|2021-10-31 09:43:...|\n",
      "|1003|    Edward|   Walker|       ed@walker.com|2021-10-31 09:43:...|\n",
      "+----+----------+---------+--------------------+--------------------+\n",
      "\n"
     ]
    }
   ],
   "source": [
    "deltaDf.toDF().show()"
   ]
  },
  {
   "cell_type": "code",
   "execution_count": null,
   "id": "77a5f3df-0373-409a-b9dd-a0e506fee91a",
   "metadata": {},
   "outputs": [],
   "source": [
    "from here its draft"
   ]
  },
  {
   "cell_type": "code",
   "execution_count": null,
   "id": "56cc9384-43a3-4536-9c20-2cf1b2e3aa74",
   "metadata": {},
   "outputs": [],
   "source": []
  },
  {
   "cell_type": "code",
   "execution_count": null,
   "id": "24b2fb67-80c9-4e64-9fa1-080b09b68367",
   "metadata": {},
   "outputs": [],
   "source": []
  },
  {
   "cell_type": "code",
   "execution_count": null,
   "id": "87d53cf1-fbb7-4e6f-b6f7-f2aaba1d40d7",
   "metadata": {},
   "outputs": [],
   "source": []
  },
  {
   "cell_type": "code",
   "execution_count": null,
   "id": "53f3d6a0-2dcd-4585-981a-74fc3cc587a3",
   "metadata": {},
   "outputs": [],
   "source": []
  },
  {
   "cell_type": "code",
   "execution_count": null,
   "id": "ed3a2a40-3813-4312-a3d7-accdd7db2326",
   "metadata": {},
   "outputs": [],
   "source": []
  },
  {
   "cell_type": "code",
   "execution_count": null,
   "id": "80f26bec-a09f-4651-b2fa-725d0691e640",
   "metadata": {},
   "outputs": [],
   "source": [
    "def write_to_merged_table(df,data_path, checkpointLocation ):\n",
    "    data_stream_writer=df.writeStream \\\n",
    "          .format(\"delta\") \\\n",
    "          .outputMode(\"append\") \\\n",
    "          .trigger(once=True) \\\n",
    "          .option(\"checkpointLocation\", checkpointLocation) \n",
    "    if not deltaTable:\n",
    "          print('first time, creating table')\n",
    "          data_stream_writer.start(data_path)\n",
    "    else:\n",
    "        print('not first time, merging data')\n",
    "        deltaDf = DeltaTable.forPath(spark, 'data_path')\n",
    "        data_stream_writer.foreachBatch(mergetoDF).start()\n"
   ]
  },
  {
   "cell_type": "code",
   "execution_count": null,
   "id": "26c50dc9-8a3f-41ba-a12f-4f343ce1e005",
   "metadata": {},
   "outputs": [],
   "source": [
    "write_to_merged_table(customer_stream_df, data_path='s3a://minio-sink-bucket/delta/bronze/customers_stream/data', \\\n",
    "                      checkpointLocation='s3a://minio-sink-bucket/delta/bronze/customers_stream/checkpoints/')\n",
    "\n"
   ]
  },
  {
   "cell_type": "code",
   "execution_count": null,
   "id": "6da259fd-70ff-46de-8a1b-d6bf4a510824",
   "metadata": {},
   "outputs": [],
   "source": []
  },
  {
   "cell_type": "code",
   "execution_count": null,
   "id": "9f1f59d4-cf50-4afa-b764-6ba90e693219",
   "metadata": {},
   "outputs": [],
   "source": []
  },
  {
   "cell_type": "code",
   "execution_count": null,
   "id": "363844f8-909f-4d8a-98b6-6dbc01932496",
   "metadata": {},
   "outputs": [],
   "source": []
  },
  {
   "cell_type": "code",
   "execution_count": null,
   "id": "d2df9e1e-d132-4c89-b320-53c96afca897",
   "metadata": {},
   "outputs": [],
   "source": []
  },
  {
   "cell_type": "code",
   "execution_count": null,
   "id": "e5f282a9-bd41-4b62-8f5a-0884d3ff830e",
   "metadata": {},
   "outputs": [],
   "source": [
    "customer_stream_delta_path='s3a://minio-sink-bucket/delta/bronze/customers_stream/data'\n",
    "deltaTable = getDeltaTableFromPath(customer_stream_delta_path)"
   ]
  },
  {
   "cell_type": "code",
   "execution_count": null,
   "id": "866ad9a9-d402-40a7-8c80-d49d586c8447",
   "metadata": {},
   "outputs": [],
   "source": [
    "write_to_merged_table(customer_df, data_path='s3a://minio-sink-bucket/delta/bronze/customers_stream/data', checkpointLocation='s3a://minio-sink-bucket/delta/bronze/customers_stream/checkpoints/')"
   ]
  },
  {
   "cell_type": "code",
   "execution_count": null,
   "id": "b1ea2707-1772-4d49-a51f-47c4dd331855",
   "metadata": {},
   "outputs": [],
   "source": []
  },
  {
   "cell_type": "code",
   "execution_count": null,
   "id": "db0fc089-8e34-47ab-ab6c-61066e25f1df",
   "metadata": {},
   "outputs": [],
   "source": []
  },
  {
   "cell_type": "code",
   "execution_count": null,
   "id": "3ccace4e-4bdd-4884-a02d-531e195f8bff",
   "metadata": {},
   "outputs": [],
   "source": []
  },
  {
   "cell_type": "code",
   "execution_count": null,
   "id": "db78b24c-fb63-4d57-a3b1-944c828a2013",
   "metadata": {},
   "outputs": [],
   "source": []
  },
  {
   "cell_type": "code",
   "execution_count": null,
   "id": "82c71d4b-5681-468b-ace9-92fe325a9446",
   "metadata": {},
   "outputs": [],
   "source": [
    "#raw data received from kafka is stored under S3 customers\n",
    "OBJECTURL_TEST = 's3a://minio-sink-bucket/topics/customers'\n",
    "schema=spark.read.format('json').load(OBJECTURL_TEST).schema\n",
    "streamingRawDF=spark.readStream.format(\"json\").schema(schema).load(OBJECTURL_TEST)\n",
    "stream=streamingRawDF.select(col(\"after.id\"), col(\"after.first_name\"), col(\"after.last_name\"), col(\"after.email\")).withColumn('inserted', current_timestamp()).writeStream \\\n",
    "  .format(\"delta\") \\\n",
    "  .outputMode(\"append\") \\\n",
    "  .partitionBy(['last_name', 'first_name']) \\\n",
    "  .option(\"overwriteSchema\", \"true\") \\\n",
    "  .trigger(once=True) \\\n",
    "  .options(ignoreDeletes=True) \\\n",
    "  .option(\"checkpointLocation\", 's3a://minio-sink-bucket/delta/bronze/customers/checkpoints/').start('s3a://minio-sink-bucket/delta/bronze/customers/data/')\n",
    "stream.awaitTermination()\n",
    "#stream.stop()\n",
    "deltaTable = DeltaTable.forPath(spark, 's3a://minio-sink-bucket/delta/bronze/customers/data')\n",
    "print(\"#############  Original Delta Table ###############\")\n",
    "deltaTable.toDF().show()"
   ]
  },
  {
   "cell_type": "code",
   "execution_count": null,
   "id": "ee17137a-76c8-4543-9994-ef3382291ab7",
   "metadata": {},
   "outputs": [],
   "source": [
    "df=spark.readStream.format(\"delta\").load('s3a://minio-sink-bucket/delta/bronze/customers/data')\n",
    "#df=df.withColumn('inserted', current_timestamp())"
   ]
  },
  {
   "cell_type": "markdown",
   "id": "03b47327-c09a-476e-9993-c8fb178291d9",
   "metadata": {},
   "source": [
    "call this only on the 1st time in order to create the table.\n",
    "need to find away to identify if the path is empty, similar to databricks dbuitls"
   ]
  },
  {
   "cell_type": "code",
   "execution_count": null,
   "id": "cbba3635-9a8b-4b93-9ec4-51d0a0cc1839",
   "metadata": {},
   "outputs": [],
   "source": [
    "df.writeStream \\\n",
    "  .format(\"delta\") \\\n",
    "  .outputMode(\"append\") \\\n",
    "  .trigger(once=True) \\\n",
    "  .option(\"checkpointLocation\", 's3a://minio-sink-bucket/delta/bronze/customers_stream/checkpoints/') \\\n",
    "  .start('s3a://minio-sink-bucket/delta/bronze/customers_stream/data')"
   ]
  },
  {
   "cell_type": "code",
   "execution_count": null,
   "id": "1d0c4b11-630f-4178-9639-b9681fc801e4",
   "metadata": {},
   "outputs": [],
   "source": [
    "table_name = 'customerstream'\n",
    "save_path='s3a://minio-sink-bucket/delta/bronze/customers_stream/data'\n",
    "spark.sql(\"CREATE TABLE \" + table_name + \" USING DELTA LOCATION '\" + save_path + \"'\")"
   ]
  },
  {
   "cell_type": "code",
   "execution_count": null,
   "id": "aeea2079-f28a-4463-8507-78b8b621d0f4",
   "metadata": {},
   "outputs": [],
   "source": [
    "deltaDf = DeltaTable.forName(spark, 'customerstream')"
   ]
  },
  {
   "cell_type": "code",
   "execution_count": null,
   "id": "e9527564-9dd9-4ede-a152-3437f6681128",
   "metadata": {},
   "outputs": [],
   "source": [
    "def mergetoDF(microDF, batchId):\n",
    "    print(f\"inside foreachBatch for batchId{batchId}. rows passed={microDF.count()}\")\n",
    "#    microDF.dropDuplicates(\"id\")\n",
    "    deltaDf.alias(\"t\").merge(microDF.alias(\"s\"), \"s.id = t.id\")\\\n",
    "        .whenMatchedUpdateAll()\\\n",
    "        .whenNotMatchedInsertAll()\\\n",
    "        .execute()"
   ]
  },
  {
   "cell_type": "code",
   "execution_count": null,
   "id": "7b6806d0-d9b4-428f-9355-b3d6a12f9c12",
   "metadata": {},
   "outputs": [],
   "source": [
    "df.writeStream \\\n",
    "  .format(\"delta\") \\\n",
    "  .outputMode(\"append\") \\\n",
    "  .foreachBatch(mergetoDF) \\\n",
    "  .trigger(once=True) \\\n",
    "  .option(\"checkpointLocation\", 's3a://minio-sink-bucket/delta/bronze/customers_stream/checkpoints/') \\\n",
    "  .start()"
   ]
  },
  {
   "cell_type": "markdown",
   "id": "f06ab6ff-76c0-4646-b9e4-059b7bd5b380",
   "metadata": {},
   "source": [
    "the following is an example of stream data with upsert, in order to avoid duplication by id\n",
    "the input is CSV file and the output is bronze delta with only rellevant id's\n",
    "we might want to change the CSV to Avro, as its more efficient, but less readable\n",
    "now, execute the insert and update from the README"
   ]
  },
  {
   "cell_type": "code",
   "execution_count": null,
   "id": "658e366a-4ff6-40c6-b2b0-938916311cfc",
   "metadata": {},
   "outputs": [],
   "source": [
    "deltaDf.toDF().show()"
   ]
  },
  {
   "cell_type": "code",
   "execution_count": null,
   "id": "1e6c49b7-bec5-45a7-b485-e60a02200be1",
   "metadata": {},
   "outputs": [],
   "source": [
    "deltaTable.history().show()"
   ]
  },
  {
   "cell_type": "markdown",
   "id": "53160895-6f94-4111-a3c9-376aea8f3549",
   "metadata": {},
   "source": [
    "example for updating according to input event"
   ]
  },
  {
   "cell_type": "code",
   "execution_count": null,
   "id": "56780423-6ddf-4624-8ed3-d13fe0a6a242",
   "metadata": {},
   "outputs": [],
   "source": [
    "deltaTable.delete()"
   ]
  },
  {
   "cell_type": "code",
   "execution_count": null,
   "id": "aa851701-0949-4d3e-94c3-7a2dfe063ce8",
   "metadata": {},
   "outputs": [],
   "source": [
    "deltaTable.toDF().show()"
   ]
  },
  {
   "cell_type": "code",
   "execution_count": null,
   "id": "c3cdd2ed-3d64-4d36-b2e2-cbc31fbb2756",
   "metadata": {},
   "outputs": [],
   "source": [
    "deltaTable.vacuum()  "
   ]
  },
  {
   "cell_type": "code",
   "execution_count": null,
   "id": "1cc9dab1-b4ca-4862-bf7d-fcf5a45dcb79",
   "metadata": {},
   "outputs": [],
   "source": [
    "customer_stream_delta_path='s3a://minio-sink-bucket/delta/bronze/customers_stream/data'\n",
    "deltaTable = getDeltaTableFromPath(customer_stream_delta_path)\n"
   ]
  },
  {
   "cell_type": "code",
   "execution_count": null,
   "id": "f5303627-622d-4583-82c1-c30befacd623",
   "metadata": {},
   "outputs": [],
   "source": [
    "def write_to_merged_table(df,data_path, checkpointLocation ):\n",
    "    data_stream_writer=df.writeStream \\\n",
    "          .format(\"delta\") \\\n",
    "          .outputMode(\"append\") \\\n",
    "          .trigger(once=True) \\\n",
    "          .option(\"checkpointLocation\", checkpointLocation) \n",
    "    if not deltaTable:\n",
    "          print('first time, creating table')\n",
    "          data_stream_writer.start(data_path)\n",
    "    else:\n",
    "        print('not first time, merging data')\n",
    "        data_stream_writer.foreachBatch(mergetoDF).start()"
   ]
  },
  {
   "cell_type": "code",
   "execution_count": null,
   "id": "5d29e9dc-ad82-448e-a826-04480049597c",
   "metadata": {},
   "outputs": [],
   "source": [
    "write_to_merged_table(customer_df, data_path='s3a://minio-sink-bucket/delta/bronze/customers_stream/data', checkpointLocation='s3a://minio-sink-bucket/delta/bronze/customers_stream/checkpoints/')"
   ]
  },
  {
   "cell_type": "code",
   "execution_count": null,
   "id": "0cb00e7d-5e7e-4e3a-8e4f-92c43813e519",
   "metadata": {},
   "outputs": [],
   "source": []
  }
 ],
 "metadata": {
  "kernelspec": {
   "display_name": "Python 3 (ipykernel)",
   "language": "python",
   "name": "python3"
  },
  "language_info": {
   "codemirror_mode": {
    "name": "ipython",
    "version": 3
   },
   "file_extension": ".py",
   "mimetype": "text/x-python",
   "name": "python",
   "nbconvert_exporter": "python",
   "pygments_lexer": "ipython3",
   "version": "3.9.7"
  }
 },
 "nbformat": 4,
 "nbformat_minor": 5
}

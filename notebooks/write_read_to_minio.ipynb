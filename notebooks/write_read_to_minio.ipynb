{
 "cells": [
  {
   "cell_type": "code",
   "execution_count": 1,
   "id": "3bce27ad-2ef9-42c1-82a9-15ced3f15f0d",
   "metadata": {},
   "outputs": [
    {
     "name": "stderr",
     "output_type": "stream",
     "text": [
      "WARNING: An illegal reflective access operation has occurred\n",
      "WARNING: Illegal reflective access by org.apache.spark.unsafe.Platform (file:/usr/local/spark-3.1.2-bin-hadoop3.2/jars/spark-unsafe_2.12-3.1.2.jar) to constructor java.nio.DirectByteBuffer(long,int)\n",
      "WARNING: Please consider reporting this to the maintainers of org.apache.spark.unsafe.Platform\n",
      "WARNING: Use --illegal-access=warn to enable warnings of further illegal reflective access operations\n",
      "WARNING: All illegal access operations will be denied in a future release\n"
     ]
    },
    {
     "name": "stdout",
     "output_type": "stream",
     "text": [
      ":: loading settings :: url = jar:file:/usr/local/spark-3.1.2-bin-hadoop3.2/jars/ivy-2.4.0.jar!/org/apache/ivy/core/settings/ivysettings.xml\n"
     ]
    },
    {
     "name": "stderr",
     "output_type": "stream",
     "text": [
      "Ivy Default Cache set to: /home/jovyan/.ivy2/cache\n",
      "The jars for the packages stored in: /home/jovyan/.ivy2/jars\n",
      "com.databricks#dbutils-api_2.12 added as a dependency\n",
      "io.delta#delta-core_2.12 added as a dependency\n",
      "org.apache.spark#spark-sql-kafka-0-10_2.12 added as a dependency\n",
      "com.amazonaws#aws-java-sdk-bundle added as a dependency\n",
      "org.apache.hadoop#hadoop-aws added as a dependency\n",
      ":: resolving dependencies :: org.apache.spark#spark-submit-parent-dab7227a-c24b-49cb-9105-dc4d668ef1ea;1.0\n",
      "\tconfs: [default]\n",
      "\tfound com.databricks#dbutils-api_2.12;0.0.5 in central\n",
      "\tfound io.delta#delta-core_2.12;1.0.0 in central\n",
      "\tfound org.antlr#antlr4;4.7 in central\n",
      "\tfound org.antlr#antlr4-runtime;4.7 in central\n",
      "\tfound org.antlr#antlr-runtime;3.5.2 in central\n",
      "\tfound org.antlr#ST4;4.0.8 in central\n",
      "\tfound org.abego.treelayout#org.abego.treelayout.core;1.0.3 in central\n",
      "\tfound org.glassfish#javax.json;1.0.4 in central\n",
      "\tfound com.ibm.icu#icu4j;58.2 in central\n",
      "\tfound org.apache.spark#spark-sql-kafka-0-10_2.12;3.0.2 in central\n",
      "\tfound org.apache.spark#spark-token-provider-kafka-0-10_2.12;3.0.2 in central\n",
      "\tfound org.apache.kafka#kafka-clients;2.4.1 in central\n",
      "\tfound com.github.luben#zstd-jni;1.4.4-3 in central\n",
      "\tfound org.lz4#lz4-java;1.7.1 in central\n",
      "\tfound org.xerial.snappy#snappy-java;1.1.8.2 in central\n",
      "\tfound org.slf4j#slf4j-api;1.7.30 in central\n",
      "\tfound org.spark-project.spark#unused;1.0.0 in central\n",
      "\tfound org.apache.commons#commons-pool2;2.6.2 in central\n",
      "\tfound com.amazonaws#aws-java-sdk-bundle;1.11.819 in central\n",
      "\tfound org.apache.hadoop#hadoop-aws;3.2.0 in central\n",
      ":: resolution report :: resolve 480ms :: artifacts dl 10ms\n",
      "\t:: modules in use:\n",
      "\tcom.amazonaws#aws-java-sdk-bundle;1.11.819 from central in [default]\n",
      "\tcom.databricks#dbutils-api_2.12;0.0.5 from central in [default]\n",
      "\tcom.github.luben#zstd-jni;1.4.4-3 from central in [default]\n",
      "\tcom.ibm.icu#icu4j;58.2 from central in [default]\n",
      "\tio.delta#delta-core_2.12;1.0.0 from central in [default]\n",
      "\torg.abego.treelayout#org.abego.treelayout.core;1.0.3 from central in [default]\n",
      "\torg.antlr#ST4;4.0.8 from central in [default]\n",
      "\torg.antlr#antlr-runtime;3.5.2 from central in [default]\n",
      "\torg.antlr#antlr4;4.7 from central in [default]\n",
      "\torg.antlr#antlr4-runtime;4.7 from central in [default]\n",
      "\torg.apache.commons#commons-pool2;2.6.2 from central in [default]\n",
      "\torg.apache.hadoop#hadoop-aws;3.2.0 from central in [default]\n",
      "\torg.apache.kafka#kafka-clients;2.4.1 from central in [default]\n",
      "\torg.apache.spark#spark-sql-kafka-0-10_2.12;3.0.2 from central in [default]\n",
      "\torg.apache.spark#spark-token-provider-kafka-0-10_2.12;3.0.2 from central in [default]\n",
      "\torg.glassfish#javax.json;1.0.4 from central in [default]\n",
      "\torg.lz4#lz4-java;1.7.1 from central in [default]\n",
      "\torg.slf4j#slf4j-api;1.7.30 from central in [default]\n",
      "\torg.spark-project.spark#unused;1.0.0 from central in [default]\n",
      "\torg.xerial.snappy#snappy-java;1.1.8.2 from central in [default]\n",
      "\t:: evicted modules:\n",
      "\tcom.amazonaws#aws-java-sdk-bundle;1.11.375 by [com.amazonaws#aws-java-sdk-bundle;1.11.819] in [default]\n",
      "\t---------------------------------------------------------------------\n",
      "\t|                  |            modules            ||   artifacts   |\n",
      "\t|       conf       | number| search|dwnlded|evicted|| number|dwnlded|\n",
      "\t---------------------------------------------------------------------\n",
      "\t|      default     |   21  |   0   |   0   |   1   ||   20  |   0   |\n",
      "\t---------------------------------------------------------------------\n",
      ":: retrieving :: org.apache.spark#spark-submit-parent-dab7227a-c24b-49cb-9105-dc4d668ef1ea\n",
      "\tconfs: [default]\n",
      "\t0 artifacts copied, 20 already retrieved (0kB/10ms)\n",
      "21/11/01 08:41:21 WARN NativeCodeLoader: Unable to load native-hadoop library for your platform... using builtin-java classes where applicable\n",
      "Using Spark's default log4j profile: org/apache/spark/log4j-defaults.properties\n",
      "Setting default log level to \"WARN\".\n",
      "To adjust logging level use sc.setLogLevel(newLevel). For SparkR, use setLogLevel(newLevel).\n"
     ]
    }
   ],
   "source": [
    "import pyspark\n",
    "from pyspark.sql import Column, DataFrame, SparkSession, functions\n",
    "from pyspark.sql.functions import *\n",
    "from py4j.java_collections import MapConverter\n",
    "import shutil\n",
    "import random\n",
    "import threading\n",
    "conf = pyspark.SparkConf()\n",
    "conf.setMaster(\"spark://spark:7077\") \n",
    "\n",
    "conf.set(\"spark.hadoop.fs.s3a.endpoint\", 'http://s3:9000') \\\n",
    "    .set(\"spark.hadoop.fs.s3a.access.key\", 'minio') \\\n",
    "    .set(\"spark.hadoop.fs.s3a.secret.key\", 'minio123') \\\n",
    "    .set(\"spark.hadoop.fs.s3a.fast.upload\", True) \\\n",
    "    .set(\"spark.hadoop.fs.s3a.path.style.access\", True) \\\n",
    "    .set(\"spark.hadoop.fs.s3a.impl\", \"org.apache.hadoop.fs.s3a.S3AFileSystem\") \\\n",
    "    .set(\"spark.sql.extensions\", \"io.delta.sql.DeltaSparkSessionExtension\") \\\n",
    "    .set(\"spark.sql.catalog.spark_catalog\", \"org.apache.spark.sql.delta.catalog.DeltaCatalog\")\n",
    "sc = pyspark.SparkContext(conf=conf)"
   ]
  },
  {
   "cell_type": "code",
   "execution_count": 2,
   "id": "d2bf6254-be9f-4876-a02c-70f6e727db89",
   "metadata": {},
   "outputs": [],
   "source": [
    "from pyspark.sql import SparkSession\n",
    "spark = SparkSession(sc).builder.appName(\"streaming\").getOrCreate()\n",
    "from delta.tables import *"
   ]
  },
  {
   "cell_type": "code",
   "execution_count": 3,
   "id": "6ab9fbfd-f0ce-44dd-b7c9-e9e8e684dae4",
   "metadata": {},
   "outputs": [],
   "source": [
    "from pyspark.sql.utils import AnalysisException\n",
    "def get_from_raw_to_delta_stream(streamingRawDF,checkpointLocation, data_uri , partitioned_by):\n",
    "      stream=streamingRawDF.writeStream \\\n",
    "      .format(\"delta\") \\\n",
    "      .outputMode(\"append\") \\\n",
    "      .partitionBy(partitioned_by) \\\n",
    "      .option(\"overwriteSchema\", \"true\") \\\n",
    "      .trigger(once=True) \\\n",
    "      .options(ignoreDeletes=True) \\\n",
    "      .option(\"checkpointLocation\", checkpointLocation).start(data_uri)\n",
    "      return (stream)\n",
    "\n",
    "\n",
    "def get_streaming_df(OBJECTURL, format='json'):\n",
    "    if (format in ('json','csv')):\n",
    "        schema=(spark.read.format('json').load(OBJECTURL).schema)\n",
    "        return(spark.readStream.format(format).schema(schema).load(OBJECTURL))\n",
    "    else:\n",
    "        return(spark.readStream.format(format).load(OBJECTURL))\n",
    "    return streamingRawDF\n",
    "\n",
    "def getDeltaTableFromPath(path):\n",
    "    deltaTable=None\n",
    "    try:\n",
    "        deltaTable = DeltaTable.forPath(spark, path)\n",
    "    except AnalysisException as error:\n",
    "        if(\"is not a Delta table\" in str(error)):\n",
    "            print('1st time we call, not yet created')\n",
    "        else:\n",
    "            raise(error)\n",
    "    return (deltaTable)\n",
    "\n",
    "def mergetoDF(microDF, batchId):\n",
    "    print(f\"inside foreachBatch for batchId{batchId}. rows passed={microDF.count()}\")\n",
    "    microDF=microDF.dropDuplicates([\"id\"])\n",
    "    deltaDf.alias(\"t\").merge(microDF.alias(\"s\"), \"s.id = t.id\")\\\n",
    "        .whenMatchedUpdateAll()\\\n",
    "        .whenNotMatchedInsertAll()\\\n",
    "        .execute()\n",
    "#table_category=raw/bronze/silver/gold\n",
    "def get_uri(table_name, table_category='raw',is_checkpoint=False ,base_uri='s3a://minio-sink-bucket/'):\n",
    "    uri=base_uri\n",
    "    if(table_category=='raw'):\n",
    "        uri=uri + 'topics/' \n",
    "    else:\n",
    "        uri=uri + table_category + '/' \n",
    "        if(is_checkpoint):\n",
    "            uri=uri+'checkpoint/'\n",
    "        else:\n",
    "            uri=uri+'data/'\n",
    "    return(uri+ table_name)\n",
    "\n",
    "def get_tables_uri (table_name):\n",
    "    raw_table=get_uri(table_name)\n",
    "    bronze_table=get_uri(table_name,table_category='bronze')\n",
    "    bronze_table_checkpoint=get_uri(table_name,table_category='bronze',is_checkpoint=True)\n",
    "    silver_table=get_uri(table_name,table_category='silver')\n",
    "    silver_table_checkpoint=get_uri(table_name,table_category='silver',is_checkpoint=True)\n",
    "    return(raw_table, bronze_table, bronze_table_checkpoint, silver_table,silver_table_checkpoint )"
   ]
  },
  {
   "cell_type": "code",
   "execution_count": 4,
   "id": "026e95db-612d-40d0-9ce8-bcb8f263e33c",
   "metadata": {},
   "outputs": [
    {
     "name": "stderr",
     "output_type": "stream",
     "text": [
      "21/11/01 08:41:27 WARN MetricsConfig: Cannot locate configuration: tried hadoop-metrics2-s3a-file-system.properties,hadoop-metrics2.properties\n",
      "                                                                                \r"
     ]
    }
   ],
   "source": [
    "raw_table, bronze_table, bronze_table_checkpoint, silver_table,silver_table_checkpoint=get_tables_uri (table_name='customers')\n",
    "\n",
    "streamingCustRawDF=get_streaming_df(raw_table)\n",
    "streamingCustRawDF=streamingCustRawDF.select(col(\"after.id\"), col(\"after.first_name\"), col(\"after.last_name\"), \\\n",
    "                             col(\"after.email\")).withColumn('inserted', current_timestamp())\n",
    "partitioned_by=['last_name', 'first_name']\n",
    "stream=get_from_raw_to_delta_stream(streamingCustRawDF,checkpointLocation=bronze_table_checkpoint, \\\n",
    "                         data_uri=bronze_table, \\\n",
    "                          partitioned_by=partitioned_by)\n",
    "stream.awaitTermination()"
   ]
  },
  {
   "cell_type": "code",
   "execution_count": 5,
   "id": "3527f1f1-c75b-4ee6-beb8-8b05dee5bfa8",
   "metadata": {},
   "outputs": [
    {
     "name": "stdout",
     "output_type": "stream",
     "text": [
      "#############  Original Delta Table ###############\n"
     ]
    },
    {
     "name": "stderr",
     "output_type": "stream",
     "text": [
      "                                                                                \r"
     ]
    },
    {
     "name": "stdout",
     "output_type": "stream",
     "text": [
      "+----+----------+---------+--------------------+--------------------+\n",
      "|  id|first_name|last_name|               email|            inserted|\n",
      "+----+----------+---------+--------------------+--------------------+\n",
      "|1001|      Jane|  changed|sally.thomas@acme...|2021-11-01 08:41:...|\n",
      "|1001|     Sally|   Thomas|sally.thomas@acme...|2021-11-01 08:41:...|\n",
      "|1001|      Jane| changed1|sally.thomas@acme...|2021-11-01 08:41:...|\n",
      "|1005|      John|      Doe|john.doe@example.com|2021-11-01 08:41:...|\n",
      "|1002|    George|   Bailey|  gbailey@foobar.com|2021-11-01 08:41:...|\n",
      "|1004|      Anne|Kretchmar|  annek@noanswer.org|2021-11-01 08:41:...|\n",
      "|1003|    Edward|   Walker|       ed@walker.com|2021-11-01 08:41:...|\n",
      "+----+----------+---------+--------------------+--------------------+\n",
      "\n"
     ]
    }
   ],
   "source": [
    "deltaTable=getDeltaTableFromPath(bronze_table)\n",
    "print(\"#############  Original Delta Table ###############\")\n",
    "deltaTable.toDF().show()"
   ]
  },
  {
   "cell_type": "code",
   "execution_count": 6,
   "id": "6f04876c-5d8a-4122-bef2-18aa69da101b",
   "metadata": {},
   "outputs": [],
   "source": [
    "customer_stream_df=get_streaming_df(bronze_table, 'delta')"
   ]
  },
  {
   "cell_type": "code",
   "execution_count": 7,
   "id": "5794d4cf-4d7b-4c69-9761-fd85a5785ef1",
   "metadata": {},
   "outputs": [
    {
     "name": "stdout",
     "output_type": "stream",
     "text": [
      "1st time we call, not yet created\n",
      "first time, creating table\n"
     ]
    },
    {
     "name": "stderr",
     "output_type": "stream",
     "text": [
      "21/11/01 08:41:51 WARN MicroBatchExecution: The read limit MaxFiles: 1000 for DeltaSource[s3a://minio-sink-bucket/bronze/data/customers] is ignored when Trigger.Once() is used.\n",
      "                                                                                \r"
     ]
    }
   ],
   "source": [
    "deltaDf = getDeltaTableFromPath(silver_table)\n",
    "data_stream_writer=customer_stream_df.writeStream \\\n",
    "      .format(\"delta\") \\\n",
    "      .outputMode(\"append\") \\\n",
    "      .trigger(once=True) \\\n",
    "      .option(\"checkpointLocation\", silver_table_checkpoint) \n",
    "if not deltaDf:\n",
    "      print('first time, creating table')\n",
    "      data_stream_writer.start(silver_table)\n",
    "else:\n",
    "    print('not first time, merging data')\n",
    "    data_stream_writer.foreachBatch(mergetoDF).start()"
   ]
  },
  {
   "cell_type": "code",
   "execution_count": 8,
   "id": "221840cb-57ae-435f-894c-48ec31d5b6af",
   "metadata": {},
   "outputs": [
    {
     "name": "stdout",
     "output_type": "stream",
     "text": [
      "+----+----------+---------+--------------------+--------------------+\n",
      "|  id|first_name|last_name|               email|            inserted|\n",
      "+----+----------+---------+--------------------+--------------------+\n",
      "|1001|      Jane|  changed|sally.thomas@acme...|2021-11-01 08:41:...|\n",
      "|1001|     Sally|   Thomas|sally.thomas@acme...|2021-11-01 08:41:...|\n",
      "|1001|      Jane| changed1|sally.thomas@acme...|2021-11-01 08:41:...|\n",
      "|1005|      John|      Doe|john.doe@example.com|2021-11-01 08:41:...|\n",
      "|1002|    George|   Bailey|  gbailey@foobar.com|2021-11-01 08:41:...|\n",
      "|1004|      Anne|Kretchmar|  annek@noanswer.org|2021-11-01 08:41:...|\n",
      "|1003|    Edward|   Walker|       ed@walker.com|2021-11-01 08:41:...|\n",
      "+----+----------+---------+--------------------+--------------------+\n",
      "\n"
     ]
    }
   ],
   "source": [
    "getDeltaTableFromPath(silver_table).toDF().show()"
   ]
  },
  {
   "cell_type": "markdown",
   "id": "e538d0f5-af3d-403f-8469-68aeae6b8c73",
   "metadata": {},
   "source": [
    "orders table"
   ]
  },
  {
   "cell_type": "code",
   "execution_count": 9,
   "id": "9a9fe31a-96cc-450e-bae6-3ea13c1355b0",
   "metadata": {},
   "outputs": [
    {
     "name": "stderr",
     "output_type": "stream",
     "text": [
      "                                                                                \r"
     ]
    },
    {
     "name": "stdout",
     "output_type": "stream",
     "text": [
      "+------------+----------+---------+----------+\n",
      "|order_number|order_date|purchaser|product_id|\n",
      "+------------+----------+---------+----------+\n",
      "|       10001|     16816|     1001|       102|\n",
      "|       10002|     16817|     1002|       105|\n",
      "|       10003|     16850|     1002|       106|\n",
      "|       10004|     16852|     1003|       107|\n",
      "+------------+----------+---------+----------+\n",
      "\n",
      "1st time we call, not yet created\n",
      "first time, creating table\n"
     ]
    },
    {
     "name": "stderr",
     "output_type": "stream",
     "text": [
      "21/11/01 08:42:43 WARN MicroBatchExecution: The read limit MaxFiles: 1000 for DeltaSource[s3a://minio-sink-bucket/bronze/data/orders] is ignored when Trigger.Once() is used.\n",
      "                                                                                \r"
     ]
    }
   ],
   "source": [
    "table_name='orders'\n",
    "raw_table, bronze_table, bronze_table_checkpoint, silver_table,silver_table_checkpoint=get_tables_uri (table_name='orders')\n",
    "streamingCustRawDF=get_streaming_df(raw_table)\n",
    "streamingOrderRawDF=streamingCustRawDF.select(col(\"after.order_number\"), col(\"after.order_date\"), col(\"after.purchaser\"), \\\n",
    "                             col(\"after.product_id\"))\n",
    "partitioned_by=['purchaser']\n",
    "stream=get_from_raw_to_delta_stream(streamingOrderRawDF,checkpointLocation=bronze_table_checkpoint, \\\n",
    "                         data_uri=bronze_table, \\\n",
    "                          partitioned_by=partitioned_by)\n",
    "stream.awaitTermination()\n",
    "\n",
    "deltaDf = getDeltaTableFromPath(bronze_table)\n",
    "deltaDf.toDF().show()\n",
    "orderDeltaDf=None\n",
    "order_stream_df=get_streaming_df(bronze_table, 'delta')\n",
    "def orderMergetoDF(microDF, batchId):\n",
    "    print(f\"inside foreachBatch for batchId{batchId}. rows passed={microDF.count()}\")\n",
    "    microDF=microDF.dropDuplicates([\"order_number\"])\n",
    "    orderDeltaDf.alias(\"t\").merge(microDF.alias(\"s\"), \"s.order_number = t.order_number\")\\\n",
    "        .whenMatchedUpdateAll()\\\n",
    "        .whenNotMatchedInsertAll()\\\n",
    "        .execute()\n",
    "orderDeltaDf = getDeltaTableFromPath(silver_table)\n",
    "data_stream_writer=order_stream_df.writeStream \\\n",
    "      .format(\"delta\") \\\n",
    "      .outputMode(\"append\") \\\n",
    "      .trigger(once=True) \\\n",
    "      .option(\"checkpointLocation\", silver_table_checkpoint) \n",
    "if not orderDeltaDf:\n",
    "      print('first time, creating table')\n",
    "      data_stream_writer.start(silver_table)\n",
    "else:\n",
    "    print('not first time, merging data')\n",
    "    data_stream_writer.foreachBatch(orderMergetoDF).start()     "
   ]
  },
  {
   "cell_type": "code",
   "execution_count": 10,
   "id": "3a68ca70-4a72-47c7-bb4c-8ecbf08e725d",
   "metadata": {},
   "outputs": [
    {
     "name": "stdout",
     "output_type": "stream",
     "text": [
      "+------------+----------+---------+----------+\n",
      "|order_number|order_date|purchaser|product_id|\n",
      "+------------+----------+---------+----------+\n",
      "|       10003|     16850|     1002|       106|\n",
      "|       10004|     16852|     1003|       107|\n",
      "|       10001|     16816|     1001|       102|\n",
      "|       10002|     16817|     1002|       105|\n",
      "+------------+----------+---------+----------+\n",
      "\n"
     ]
    }
   ],
   "source": [
    "getDeltaTableFromPath(silver_table).toDF().show()"
   ]
  }
 ],
 "metadata": {
  "kernelspec": {
   "display_name": "Python 3 (ipykernel)",
   "language": "python",
   "name": "python3"
  },
  "language_info": {
   "codemirror_mode": {
    "name": "ipython",
    "version": 3
   },
   "file_extension": ".py",
   "mimetype": "text/x-python",
   "name": "python",
   "nbconvert_exporter": "python",
   "pygments_lexer": "ipython3",
   "version": "3.9.7"
  }
 },
 "nbformat": 4,
 "nbformat_minor": 5
}
